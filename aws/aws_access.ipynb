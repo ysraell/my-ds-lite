{
 "cells": [
  {
   "cell_type": "markdown",
   "metadata": {},
   "source": [
    "# Primeiro acesso AWS\n",
    "\n",
    "Referência: [Conceitos básicos da AWS CLI](https://docs.aws.amazon.com/pt_br/cli/latest/userguide/getting-started-prereqs.html)"
   ]
  },
  {
   "cell_type": "code",
   "execution_count": 1,
   "metadata": {
    "execution": {
     "iopub.execute_input": "2022-09-11T17:57:28.400784Z",
     "iopub.status.busy": "2022-09-11T17:57:28.400414Z",
     "iopub.status.idle": "2022-09-11T17:57:28.655150Z",
     "shell.execute_reply": "2022-09-11T17:57:28.654567Z",
     "shell.execute_reply.started": "2022-09-11T17:57:28.400708Z"
    },
    "tags": []
   },
   "outputs": [],
   "source": [
    "import pandas as pd\n",
    "from pathlib import Path"
   ]
  },
  {
   "cell_type": "markdown",
   "metadata": {
    "tags": []
   },
   "source": [
    "1. Obter as credenciais login e senha para o console da AWS."
   ]
  },
  {
   "cell_type": "code",
   "execution_count": 2,
   "metadata": {
    "execution": {
     "iopub.execute_input": "2022-09-11T17:57:30.611636Z",
     "iopub.status.busy": "2022-09-11T17:57:30.611317Z",
     "iopub.status.idle": "2022-09-11T17:57:30.618661Z",
     "shell.execute_reply": "2022-09-11T17:57:30.618058Z",
     "shell.execute_reply.started": "2022-09-11T17:57:30.611618Z"
    },
    "tags": []
   },
   "outputs": [],
   "source": [
    "IAM_user = 'israel.oliveira'\n",
    "path_work = Path('/work/mjv')\n",
    "access_keys_csv = path_work/f'{IAM_user}_accessKeys.csv'\n",
    "df_aws_keys = pd.read_csv(access_keys_csv)\n",
    "access_key_id = df_aws_keys['Access key ID'].loc[0]\n",
    "secret_access_key = df_aws_keys['Secret access key'].loc[0]\n",
    "#access_key_id, secret_access_key"
   ]
  },
  {
   "cell_type": "markdown",
   "metadata": {},
   "source": [
    "2. Preparar o ambiente."
   ]
  },
  {
   "cell_type": "code",
   "execution_count": 3,
   "metadata": {
    "execution": {
     "iopub.execute_input": "2022-09-11T17:57:33.739699Z",
     "iopub.status.busy": "2022-09-11T17:57:33.737168Z",
     "iopub.status.idle": "2022-09-11T17:57:34.257485Z",
     "shell.execute_reply": "2022-09-11T17:57:34.256794Z",
     "shell.execute_reply.started": "2022-09-11T17:57:33.739605Z"
    },
    "tags": []
   },
   "outputs": [
    {
     "name": "stdout",
     "output_type": "stream",
     "text": [
      "/usr/local/bin/aws\n"
     ]
    }
   ],
   "source": [
    "!which aws"
   ]
  },
  {
   "cell_type": "code",
   "execution_count": 4,
   "metadata": {
    "execution": {
     "iopub.execute_input": "2022-09-11T17:57:36.357114Z",
     "iopub.status.busy": "2022-09-11T17:57:36.356147Z",
     "iopub.status.idle": "2022-09-11T17:57:37.358248Z",
     "shell.execute_reply": "2022-09-11T17:57:37.357571Z",
     "shell.execute_reply.started": "2022-09-11T17:57:36.357018Z"
    },
    "tags": []
   },
   "outputs": [
    {
     "name": "stdout",
     "output_type": "stream",
     "text": [
      "aws-cli/2.7.31 Python/3.9.11 Linux/5.19.0-76051900-generic exe/x86_64.debian.11 prompt/off\n"
     ]
    }
   ],
   "source": [
    "!aws --version"
   ]
  },
  {
   "cell_type": "code",
   "execution_count": 5,
   "metadata": {
    "execution": {
     "iopub.execute_input": "2022-09-11T17:57:38.134136Z",
     "iopub.status.busy": "2022-09-11T17:57:38.132700Z",
     "iopub.status.idle": "2022-09-11T17:57:38.152865Z",
     "shell.execute_reply": "2022-09-11T17:57:38.151482Z",
     "shell.execute_reply.started": "2022-09-11T17:57:38.134036Z"
    },
    "tags": []
   },
   "outputs": [],
   "source": [
    "df_aws_keys['User Name'] = 'default'\n",
    "df_aws_keys.to_csv(access_keys_csv)"
   ]
  },
  {
   "cell_type": "code",
   "execution_count": 6,
   "metadata": {
    "execution": {
     "iopub.execute_input": "2022-09-11T17:57:39.837038Z",
     "iopub.status.busy": "2022-09-11T17:57:39.835985Z",
     "iopub.status.idle": "2022-09-11T17:57:40.840472Z",
     "shell.execute_reply": "2022-09-11T17:57:40.837250Z",
     "shell.execute_reply.started": "2022-09-11T17:57:39.836950Z"
    },
    "tags": []
   },
   "outputs": [
    {
     "name": "stdout",
     "output_type": "stream",
     "text": [
      "Successfully imported 1 profile(s)\n"
     ]
    }
   ],
   "source": [
    "!aws configure import --csv file://$access_keys_csv"
   ]
  },
  {
   "cell_type": "markdown",
   "metadata": {},
   "source": [
    "Check the credentials:\n",
    "```bash\n",
    "cat ~/.aws/credentials \n",
    "[default]\n",
    "aws_access_key_id = AAAAAAAAAAAAAAAAAAAAA\n",
    "aws_secret_access_key = AAAAAAAAAAAAAAAAAAAAA+BBBBBBBBBBBB\n",
    "```"
   ]
  },
  {
   "cell_type": "code",
   "execution_count": 7,
   "metadata": {
    "execution": {
     "iopub.execute_input": "2022-09-11T17:57:42.205243Z",
     "iopub.status.busy": "2022-09-11T17:57:42.204309Z",
     "iopub.status.idle": "2022-09-11T17:57:45.978266Z",
     "shell.execute_reply": "2022-09-11T17:57:45.977561Z",
     "shell.execute_reply.started": "2022-09-11T17:57:42.205151Z"
    },
    "tags": []
   },
   "outputs": [
    {
     "name": "stdout",
     "output_type": "stream",
     "text": [
      "2022-09-02 20:27:21 s3-school-mjv\n"
     ]
    }
   ],
   "source": [
    "!aws s3 ls"
   ]
  }
 ],
 "metadata": {
  "kernelspec": {
   "display_name": "Python 3 (ipykernel)",
   "language": "python",
   "name": "python3"
  },
  "language_info": {
   "codemirror_mode": {
    "name": "ipython",
    "version": 3
   },
   "file_extension": ".py",
   "mimetype": "text/x-python",
   "name": "python",
   "nbconvert_exporter": "python",
   "pygments_lexer": "ipython3",
   "version": "3.9.13"
  }
 },
 "nbformat": 4,
 "nbformat_minor": 4
}
