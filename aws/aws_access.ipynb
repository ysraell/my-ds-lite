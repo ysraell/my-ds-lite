{
 "cells": [
  {
   "cell_type": "markdown",
   "metadata": {},
   "source": [
    "# Primeiro acesso AWS\n",
    "\n",
    "Referência: [Conceitos básicos da AWS CLI](https://docs.aws.amazon.com/pt_br/cli/latest/userguide/getting-started-prereqs.html)"
   ]
  },
  {
   "cell_type": "code",
   "execution_count": null,
   "metadata": {
    "tags": []
   },
   "outputs": [],
   "source": [
    "import pandas as pd\n",
    "from pathlib import Path"
   ]
  },
  {
   "cell_type": "markdown",
   "metadata": {
    "tags": []
   },
   "source": [
    "1. Obter as credenciais login e senha para o console da AWS."
   ]
  },
  {
   "cell_type": "code",
   "execution_count": null,
   "metadata": {
    "tags": []
   },
   "outputs": [],
   "source": [
    "IAM_user = 'israel.oliveira'\n",
    "path_work = Path('/work/mjv')\n",
    "access_keys_csv = path_work/f'{IAM_user}_accessKeys.csv'\n",
    "df_aws_keys = pd.read_csv(access_keys_csv)\n",
    "access_key_id = df_aws_keys['Access key ID'].loc[0]\n",
    "secret_access_key = df_aws_keys['Secret access key'].loc[0]\n",
    "#access_key_id, secret_access_key"
   ]
  },
  {
   "cell_type": "markdown",
   "metadata": {},
   "source": [
    "2. Preparar o ambiente."
   ]
  },
  {
   "cell_type": "code",
   "execution_count": null,
   "metadata": {
    "tags": []
   },
   "outputs": [],
   "source": [
    "!which aws"
   ]
  },
  {
   "cell_type": "code",
   "execution_count": null,
   "metadata": {
    "tags": []
   },
   "outputs": [],
   "source": [
    "!aws --version"
   ]
  },
  {
   "cell_type": "code",
   "execution_count": null,
   "metadata": {
    "tags": []
   },
   "outputs": [],
   "source": [
    "df_aws_keys['User Name'] = 'default'\n",
    "df_aws_keys.to_csv(access_keys_csv)"
   ]
  },
  {
   "cell_type": "code",
   "execution_count": null,
   "metadata": {
    "tags": []
   },
   "outputs": [],
   "source": [
    "!aws configure import --csv file://$access_keys_csv"
   ]
  },
  {
   "cell_type": "markdown",
   "metadata": {},
   "source": [
    "Check the credentials:\n",
    "```bash\n",
    "cat ~/.aws/credentials \n",
    "[default]\n",
    "aws_access_key_id = AAAAAAAAAAAAAAAAAAAAA\n",
    "aws_secret_access_key = AAAAAAAAAAAAAAAAAAAAA+BBBBBBBBBBBB\n",
    "```"
   ]
  },
  {
   "cell_type": "code",
   "execution_count": null,
   "metadata": {
    "tags": []
   },
   "outputs": [],
   "source": [
    "!aws s3 ls"
   ]
  }
 ],
 "metadata": {
  "kernelspec": {
   "display_name": "Python 3 (ipykernel)",
   "language": "python",
   "name": "python3"
  },
  "language_info": {
   "codemirror_mode": {
    "name": "ipython",
    "version": 3
   },
   "file_extension": ".py",
   "mimetype": "text/x-python",
   "name": "python",
   "nbconvert_exporter": "python",
   "pygments_lexer": "ipython3",
   "version": "3.9.13"
  }
 },
 "nbformat": 4,
 "nbformat_minor": 4
}
