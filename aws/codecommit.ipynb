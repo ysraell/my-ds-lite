{
 "cells": [
  {
   "cell_type": "markdown",
   "id": "70b338b0-d2c1-4a7a-af23-49f388a8d624",
   "metadata": {},
   "source": [
    "# Primeiro acesso ao CodeCommit (git).\n",
    "\n",
    "Referência: [Etapas de configuração de conexões HTTPS com oAWS CodeCommitrepositórios do no Linux, macOS ou Unix com aAWS CLIauxiliar de credenciais](https://docs.aws.amazon.com/pt_br/codecommit/latest/userguide/setting-up-https-unixes.html)"
   ]
  },
  {
   "cell_type": "code",
   "execution_count": 1,
   "id": "f69096c9-46e7-49ed-8d5a-8cd2997d89b8",
   "metadata": {
    "execution": {
     "iopub.execute_input": "2022-09-11T18:13:52.778731Z",
     "iopub.status.busy": "2022-09-11T18:13:52.776301Z",
     "iopub.status.idle": "2022-09-11T18:13:53.314130Z",
     "shell.execute_reply": "2022-09-11T18:13:53.310813Z",
     "shell.execute_reply.started": "2022-09-11T18:13:52.778530Z"
    }
   },
   "outputs": [],
   "source": [
    "!git config --global credential.helper '!aws codecommit credential-helper $@'\n",
    "!git config --global credential.UseHttpPath true"
   ]
  },
  {
   "cell_type": "markdown",
   "id": "dc6119e4-1bbb-4749-aeed-da3b776d4fd4",
   "metadata": {},
   "source": [
    "Rode no terminal:\n",
    "\n",
    "```bash\n",
    "mkdir /work/mjv\n",
    "cd /work/mjv\n",
    "git clone https://git-codecommit.us-east-1.amazonaws.com/v1/repos/School_GIT\n",
    "cd School_GIT\n",
    "mkdir israel_oliveira # Use o seu usuário!\n",
    "cd israel_oliveira\n",
    "cp ../Aulas/S3.ipynb .\n",
    "```\n",
    "\n",
    "Configure sua identidade GIT:\n",
    "\n",
    "```bash\n",
    "git config --global user.email \"israel_oliveira@mjv.com.br\"\n",
    "git config --global user.name \"Israel Oliveira\"\n",
    "```\n",
    "\n",
    "Adicione (`add`), confirme (`commit`) e \"empurre\" (`push`) as alterações.\n",
    "\n",
    "```bash\n",
    "git status\n",
    "# Pausa\n",
    "git add .\n",
    "git status\n",
    "# Pausa\n",
    "git commit -m 'Meu 1o commit.'\n",
    "git status\n",
    "# Pausa\n",
    "git push\n",
    "```\n",
    "\n",
    "Observações:\n",
    "1. A identidade precisa ser cofigura antes do `commit`.\n",
    "2. A *flag* `--global` pode ser omitida, valendo apenas para o repositório corrente.\n",
    "3. Você pode adicionar arquivos específicos, não apenas todo o conteúdo da pasta corrente.\n",
    "4. Confira sempre a doc. oficial: https://git-scm.com/doc."
   ]
  },
  {
   "cell_type": "code",
   "execution_count": null,
   "id": "ddf3d9c3-61c1-4705-93f9-7e4803dd51fd",
   "metadata": {},
   "outputs": [],
   "source": []
  }
 ],
 "metadata": {
  "kernelspec": {
   "display_name": "Python 3 (ipykernel)",
   "language": "python",
   "name": "python3"
  },
  "language_info": {
   "codemirror_mode": {
    "name": "ipython",
    "version": 3
   },
   "file_extension": ".py",
   "mimetype": "text/x-python",
   "name": "python",
   "nbconvert_exporter": "python",
   "pygments_lexer": "ipython3",
   "version": "3.9.13"
  }
 },
 "nbformat": 4,
 "nbformat_minor": 5
}
