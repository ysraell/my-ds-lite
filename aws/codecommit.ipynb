{
 "cells": [
  {
   "cell_type": "markdown",
   "id": "70b338b0-d2c1-4a7a-af23-49f388a8d624",
   "metadata": {},
   "source": [
    "# Primeiro acesso ao CodeCommit (git).\n",
    "\n",
    "Referência: [Etapas de configuração de conexões HTTPS com oAWS CodeCommitrepositórios do no Linux, macOS ou Unix com aAWS CLIauxiliar de credenciais](https://docs.aws.amazon.com/pt_br/codecommit/latest/userguide/setting-up-https-unixes.html)"
   ]
  },
  {
   "cell_type": "code",
   "execution_count": null,
   "id": "f69096c9-46e7-49ed-8d5a-8cd2997d89b8",
   "metadata": {},
   "outputs": [],
   "source": []
  }
 ],
 "metadata": {
  "kernelspec": {
   "display_name": "Python 3 (ipykernel)",
   "language": "python",
   "name": "python3"
  },
  "language_info": {
   "codemirror_mode": {
    "name": "ipython",
    "version": 3
   },
   "file_extension": ".py",
   "mimetype": "text/x-python",
   "name": "python",
   "nbconvert_exporter": "python",
   "pygments_lexer": "ipython3",
   "version": "3.9.13"
  }
 },
 "nbformat": 4,
 "nbformat_minor": 5
}
